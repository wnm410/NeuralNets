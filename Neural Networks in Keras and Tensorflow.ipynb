{
 "cells": [
  {
   "cell_type": "markdown",
   "metadata": {},
   "source": [
    "# Neural Networks\n",
    "\n",
    "---"
   ]
  },
  {
   "cell_type": "markdown",
   "metadata": {},
   "source": [
    "## Import packages"
   ]
  },
  {
   "cell_type": "code",
   "execution_count": 1,
   "metadata": {},
   "outputs": [
    {
     "name": "stderr",
     "output_type": "stream",
     "text": [
      "/Users/williammccarthy/anaconda3/lib/python3.6/site-packages/h5py/__init__.py:36: FutureWarning: Conversion of the second argument of issubdtype from `float` to `np.floating` is deprecated. In future, it will be treated as `np.float64 == np.dtype(float).type`.\n",
      "  from ._conv import register_converters as _register_converters\n",
      "Using TensorFlow backend.\n"
     ]
    },
    {
     "name": "stdout",
     "output_type": "stream",
     "text": [
      "Couldn't import dot_parser, loading of dot files will not be possible.\n"
     ]
    }
   ],
   "source": [
    "import pandas as pd\n",
    "import matplotlib.pyplot as plt\n",
    "from sklearn.model_selection import train_test_split\n",
    "\n",
    "from keras.models import Sequential\n",
    "from keras.layers import Dense, Dropout, Conv2D, MaxPooling2D, Flatten\n",
    "from keras.utils import to_categorical\n",
    "\n",
    "import tensorflow as tf\n",
    "\n",
    "%matplotlib inline"
   ]
  },
  {
   "cell_type": "markdown",
   "metadata": {},
   "source": [
    "## Import and process data"
   ]
  },
  {
   "cell_type": "code",
   "execution_count": 3,
   "metadata": {},
   "outputs": [],
   "source": [
    "#Importing the data from Kaggle\n",
    "kag_train = pd.read_csv('/Users/williammccarthy/Downloads/digits/train.csv')\n",
    "kag_test = pd.read_csv('/Users/williammccarthy/Downloads/digits/test.csv')"
   ]
  },
  {
   "cell_type": "code",
   "execution_count": 4,
   "metadata": {},
   "outputs": [],
   "source": [
    "#Separating features and label\n",
    "X = kag_train[kag_train.columns[1:]].values\n",
    "y = kag_train['label']\n",
    "\n",
    "#Scaling the features by a factor of 255 to put them between 0 and 1\n",
    "#Turning 'label', which was 0-9, into categorical binary data\n",
    "X = X/255\n",
    "y = to_categorical(y)\n",
    "\n",
    "#Scaling the test data\n",
    "kag_test = kag_test/255"
   ]
  },
  {
   "cell_type": "code",
   "execution_count": 5,
   "metadata": {},
   "outputs": [],
   "source": [
    "#Creating a train/test split for purposes of validation data\n",
    "X_train, X_test, y_train, y_test = train_test_split(X, y, random_state=1)"
   ]
  },
  {
   "cell_type": "code",
   "execution_count": 6,
   "metadata": {},
   "outputs": [
    {
     "data": {
      "text/plain": [
       "(42000, 785)"
      ]
     },
     "execution_count": 6,
     "metadata": {},
     "output_type": "execute_result"
    }
   ],
   "source": [
    "kag_train.shape"
   ]
  },
  {
   "cell_type": "code",
   "execution_count": 7,
   "metadata": {},
   "outputs": [
    {
     "data": {
      "text/plain": [
       "(28000, 784)"
      ]
     },
     "execution_count": 7,
     "metadata": {},
     "output_type": "execute_result"
    }
   ],
   "source": [
    "kag_test.shape"
   ]
  },
  {
   "cell_type": "markdown",
   "metadata": {},
   "source": [
    "## Keras Convolutional Network"
   ]
  },
  {
   "cell_type": "code",
   "execution_count": 26,
   "metadata": {},
   "outputs": [],
   "source": [
    "#A convolutional network will want to take in a 2 dimensional input, so we will reshape\n",
    "X_train_keras = X_train.reshape(X_train.shape[0], 28, 28, 1)\n",
    "X_test_keras = X_test.reshape(X_test.shape[0], 28, 28, 1)"
   ]
  },
  {
   "cell_type": "code",
   "execution_count": 27,
   "metadata": {},
   "outputs": [],
   "source": [
    "#Instantiate the sequential model\n",
    "model = Sequential()\n",
    "\n",
    "#Add a convolutional layer\n",
    "model.add(Conv2D(filters=8, kernel_size=3, activation='relu', input_shape=(28,28,1)))\n",
    "\n",
    "#Add pooling layer\n",
    "model.add(MaxPooling2D(pool_size=2))\n",
    "\n",
    "#Add another convolutional layer\n",
    "model.add(Conv2D(filters=8, kernel_size=3, activation='relu'))\n",
    "\n",
    "#Add another pooling\n",
    "model.add(MaxPooling2D(pool_size=2))\n",
    "\n",
    "#Try some dropout (we can tune later)\n",
    "model.add(Dropout(0.5))\n",
    "\n",
    "#Flatten everything so we can get to dense. Maybe we can add more dense layers after\n",
    "model.add(Flatten())\n",
    "\n",
    "#But for now let's see how this works\n",
    "model.add(Dense(10, activation='softmax'))"
   ]
  },
  {
   "cell_type": "code",
   "execution_count": 28,
   "metadata": {},
   "outputs": [],
   "source": [
    "#Compile our model with the correct loss function for multiclass classification\n",
    "model.compile(loss='categorical_crossentropy', optimizer='adam', metrics=['accuracy'])"
   ]
  },
  {
   "cell_type": "code",
   "execution_count": 29,
   "metadata": {},
   "outputs": [
    {
     "name": "stdout",
     "output_type": "stream",
     "text": [
      "Train on 31500 samples, validate on 10500 samples\n",
      "Epoch 1/100\n",
      "31500/31500 [==============================] - 13s 422us/step - loss: 0.7146 - acc: 0.7681 - val_loss: 0.1977 - val_acc: 0.9429\n",
      "Epoch 2/100\n",
      "31500/31500 [==============================] - 13s 400us/step - loss: 0.3113 - acc: 0.9048 - val_loss: 0.1469 - val_acc: 0.9573\n",
      "Epoch 3/100\n",
      "31500/31500 [==============================] - 14s 429us/step - loss: 0.2530 - acc: 0.9214 - val_loss: 0.1289 - val_acc: 0.9620\n",
      "Epoch 4/100\n",
      "31500/31500 [==============================] - 14s 444us/step - loss: 0.2310 - acc: 0.9291 - val_loss: 0.1120 - val_acc: 0.9671\n",
      "Epoch 5/100\n",
      "31500/31500 [==============================] - 14s 439us/step - loss: 0.2179 - acc: 0.9322 - val_loss: 0.1049 - val_acc: 0.9691\n",
      "Epoch 6/100\n",
      "31500/31500 [==============================] - 13s 404us/step - loss: 0.2081 - acc: 0.9363 - val_loss: 0.0978 - val_acc: 0.9702\n",
      "Epoch 7/100\n",
      "31500/31500 [==============================] - 13s 400us/step - loss: 0.1963 - acc: 0.9412 - val_loss: 0.0900 - val_acc: 0.9738\n",
      "Epoch 8/100\n",
      "31500/31500 [==============================] - 11s 360us/step - loss: 0.1902 - acc: 0.9396 - val_loss: 0.0850 - val_acc: 0.9748\n",
      "Epoch 9/100\n",
      "31500/31500 [==============================] - 11s 356us/step - loss: 0.1824 - acc: 0.9432 - val_loss: 0.0858 - val_acc: 0.9740\n",
      "Epoch 10/100\n",
      "31500/31500 [==============================] - 12s 372us/step - loss: 0.1753 - acc: 0.9447 - val_loss: 0.0805 - val_acc: 0.9749\n",
      "Epoch 11/100\n",
      "31500/31500 [==============================] - 11s 364us/step - loss: 0.1709 - acc: 0.9460 - val_loss: 0.0742 - val_acc: 0.9784\n",
      "Epoch 12/100\n",
      "31500/31500 [==============================] - 12s 369us/step - loss: 0.1694 - acc: 0.9475 - val_loss: 0.0721 - val_acc: 0.9776\n",
      "Epoch 13/100\n",
      "31500/31500 [==============================] - 11s 353us/step - loss: 0.1619 - acc: 0.9491 - val_loss: 0.0739 - val_acc: 0.9785\n",
      "Epoch 14/100\n",
      "31500/31500 [==============================] - 11s 354us/step - loss: 0.1587 - acc: 0.9511 - val_loss: 0.0753 - val_acc: 0.9775\n",
      "Epoch 15/100\n",
      "31500/31500 [==============================] - 11s 355us/step - loss: 0.1609 - acc: 0.9497 - val_loss: 0.0718 - val_acc: 0.9795\n",
      "Epoch 16/100\n",
      "31500/31500 [==============================] - 11s 357us/step - loss: 0.1509 - acc: 0.9515 - val_loss: 0.0725 - val_acc: 0.9779\n",
      "Epoch 17/100\n",
      "31500/31500 [==============================] - 11s 357us/step - loss: 0.1513 - acc: 0.9518 - val_loss: 0.0679 - val_acc: 0.9801\n",
      "Epoch 18/100\n",
      "31500/31500 [==============================] - 11s 360us/step - loss: 0.1512 - acc: 0.9536 - val_loss: 0.0656 - val_acc: 0.9806\n",
      "Epoch 19/100\n",
      "31500/31500 [==============================] - 11s 357us/step - loss: 0.1475 - acc: 0.9534 - val_loss: 0.0664 - val_acc: 0.9812\n",
      "Epoch 20/100\n",
      "31500/31500 [==============================] - 12s 369us/step - loss: 0.1460 - acc: 0.9552 - val_loss: 0.0642 - val_acc: 0.9820\n",
      "Epoch 21/100\n",
      "31500/31500 [==============================] - 12s 379us/step - loss: 0.1435 - acc: 0.9554 - val_loss: 0.0628 - val_acc: 0.9826\n",
      "Epoch 22/100\n",
      "31500/31500 [==============================] - 11s 362us/step - loss: 0.1423 - acc: 0.9552 - val_loss: 0.0619 - val_acc: 0.9827\n",
      "Epoch 23/100\n",
      "31500/31500 [==============================] - 12s 368us/step - loss: 0.1416 - acc: 0.9558 - val_loss: 0.0626 - val_acc: 0.9825\n",
      "Epoch 24/100\n",
      "31500/31500 [==============================] - 11s 357us/step - loss: 0.1373 - acc: 0.9568 - val_loss: 0.0598 - val_acc: 0.9824\n",
      "Epoch 25/100\n",
      "31500/31500 [==============================] - 11s 358us/step - loss: 0.1417 - acc: 0.9550 - val_loss: 0.0617 - val_acc: 0.9816\n",
      "Epoch 26/100\n",
      "31500/31500 [==============================] - 15s 475us/step - loss: 0.1350 - acc: 0.9563 - val_loss: 0.0649 - val_acc: 0.9798\n",
      "Epoch 27/100\n",
      "31500/31500 [==============================] - 13s 420us/step - loss: 0.1374 - acc: 0.9560 - val_loss: 0.0606 - val_acc: 0.9823\n",
      "Epoch 28/100\n",
      "31500/31500 [==============================] - 12s 388us/step - loss: 0.1384 - acc: 0.9570 - val_loss: 0.0586 - val_acc: 0.9830\n",
      "Epoch 29/100\n",
      "31500/31500 [==============================] - 12s 385us/step - loss: 0.1350 - acc: 0.9569 - val_loss: 0.0585 - val_acc: 0.9829\n",
      "Epoch 30/100\n",
      "31500/31500 [==============================] - 13s 409us/step - loss: 0.1334 - acc: 0.9577 - val_loss: 0.0596 - val_acc: 0.9822\n",
      "Epoch 31/100\n",
      "31500/31500 [==============================] - 12s 394us/step - loss: 0.1308 - acc: 0.9594 - val_loss: 0.0578 - val_acc: 0.9829\n",
      "Epoch 32/100\n",
      "31500/31500 [==============================] - 13s 403us/step - loss: 0.1337 - acc: 0.9590 - val_loss: 0.0576 - val_acc: 0.9832\n",
      "Epoch 33/100\n",
      "31500/31500 [==============================] - 12s 392us/step - loss: 0.1298 - acc: 0.9588 - val_loss: 0.0588 - val_acc: 0.9825\n",
      "Epoch 34/100\n",
      "31500/31500 [==============================] - 13s 399us/step - loss: 0.1304 - acc: 0.9587 - val_loss: 0.0567 - val_acc: 0.9835\n",
      "Epoch 35/100\n",
      "31500/31500 [==============================] - 13s 397us/step - loss: 0.1292 - acc: 0.9587 - val_loss: 0.0593 - val_acc: 0.9818\n",
      "Epoch 36/100\n",
      "31500/31500 [==============================] - 12s 392us/step - loss: 0.1301 - acc: 0.9590 - val_loss: 0.0566 - val_acc: 0.9845\n",
      "Epoch 37/100\n",
      "31500/31500 [==============================] - 12s 387us/step - loss: 0.1320 - acc: 0.9577 - val_loss: 0.0575 - val_acc: 0.9832\n",
      "Epoch 38/100\n",
      "31500/31500 [==============================] - 12s 377us/step - loss: 0.1286 - acc: 0.9590 - val_loss: 0.0561 - val_acc: 0.9830\n",
      "Epoch 39/100\n",
      "31500/31500 [==============================] - 12s 382us/step - loss: 0.1284 - acc: 0.9603 - val_loss: 0.0575 - val_acc: 0.9833\n",
      "Epoch 40/100\n",
      "31500/31500 [==============================] - 13s 398us/step - loss: 0.1290 - acc: 0.9586 - val_loss: 0.0563 - val_acc: 0.9831\n",
      "Epoch 41/100\n",
      "31500/31500 [==============================] - 12s 387us/step - loss: 0.1267 - acc: 0.9591 - val_loss: 0.0551 - val_acc: 0.9844\n",
      "Epoch 42/100\n",
      "31500/31500 [==============================] - 12s 385us/step - loss: 0.1275 - acc: 0.9591 - val_loss: 0.0568 - val_acc: 0.9833\n",
      "Epoch 43/100\n",
      "31500/31500 [==============================] - 12s 382us/step - loss: 0.1258 - acc: 0.9598 - val_loss: 0.0572 - val_acc: 0.9828\n",
      "Epoch 44/100\n",
      "31500/31500 [==============================] - 13s 425us/step - loss: 0.1286 - acc: 0.9594 - val_loss: 0.0560 - val_acc: 0.9840\n",
      "Epoch 45/100\n",
      "31500/31500 [==============================] - 14s 433us/step - loss: 0.1253 - acc: 0.9605 - val_loss: 0.0549 - val_acc: 0.9839\n",
      "Epoch 46/100\n",
      "31500/31500 [==============================] - 15s 473us/step - loss: 0.1268 - acc: 0.9595 - val_loss: 0.0553 - val_acc: 0.9838\n",
      "Epoch 47/100\n",
      "31500/31500 [==============================] - 16s 493us/step - loss: 0.1264 - acc: 0.9596 - val_loss: 0.0572 - val_acc: 0.9830\n",
      "Epoch 48/100\n",
      "31500/31500 [==============================] - 15s 482us/step - loss: 0.1248 - acc: 0.9610 - val_loss: 0.0546 - val_acc: 0.9837\n",
      "Epoch 49/100\n",
      "31500/31500 [==============================] - 15s 485us/step - loss: 0.1212 - acc: 0.9619 - val_loss: 0.0542 - val_acc: 0.9844\n",
      "Epoch 50/100\n",
      "31500/31500 [==============================] - 12s 392us/step - loss: 0.1269 - acc: 0.9605 - val_loss: 0.0535 - val_acc: 0.9847\n",
      "Epoch 51/100\n",
      "31500/31500 [==============================] - 12s 394us/step - loss: 0.1222 - acc: 0.9619 - val_loss: 0.0555 - val_acc: 0.9831\n",
      "Epoch 52/100\n",
      "31500/31500 [==============================] - 12s 392us/step - loss: 0.1215 - acc: 0.9620 - val_loss: 0.0546 - val_acc: 0.9840\n",
      "Epoch 53/100\n",
      "31500/31500 [==============================] - 12s 391us/step - loss: 0.1242 - acc: 0.9604 - val_loss: 0.0548 - val_acc: 0.9847\n",
      "Epoch 54/100\n",
      "31500/31500 [==============================] - 13s 400us/step - loss: 0.1203 - acc: 0.9621 - val_loss: 0.0555 - val_acc: 0.9841\n",
      "Epoch 55/100\n",
      "31500/31500 [==============================] - 13s 404us/step - loss: 0.1215 - acc: 0.9610 - val_loss: 0.0541 - val_acc: 0.9847\n",
      "Epoch 56/100\n",
      "31500/31500 [==============================] - 13s 400us/step - loss: 0.1233 - acc: 0.9607 - val_loss: 0.0545 - val_acc: 0.9837\n",
      "Epoch 57/100\n",
      "31500/31500 [==============================] - 12s 396us/step - loss: 0.1184 - acc: 0.9618 - val_loss: 0.0577 - val_acc: 0.9832\n",
      "Epoch 58/100\n",
      "31500/31500 [==============================] - 13s 425us/step - loss: 0.1194 - acc: 0.9619 - val_loss: 0.0551 - val_acc: 0.9845\n",
      "Epoch 59/100\n",
      "31500/31500 [==============================] - 12s 391us/step - loss: 0.1186 - acc: 0.9618 - val_loss: 0.0555 - val_acc: 0.9843\n",
      "Epoch 60/100\n",
      "31500/31500 [==============================] - 12s 387us/step - loss: 0.1217 - acc: 0.9616 - val_loss: 0.0539 - val_acc: 0.9842\n",
      "Epoch 61/100\n",
      "31500/31500 [==============================] - 12s 386us/step - loss: 0.1216 - acc: 0.9612 - val_loss: 0.0531 - val_acc: 0.9847\n",
      "Epoch 62/100\n",
      "31500/31500 [==============================] - 12s 388us/step - loss: 0.1169 - acc: 0.9626 - val_loss: 0.0546 - val_acc: 0.9846\n",
      "Epoch 63/100\n",
      "31500/31500 [==============================] - 15s 491us/step - loss: 0.1185 - acc: 0.9632 - val_loss: 0.0545 - val_acc: 0.9842\n",
      "Epoch 64/100\n",
      "31500/31500 [==============================] - 14s 449us/step - loss: 0.1133 - acc: 0.9623 - val_loss: 0.0536 - val_acc: 0.9845\n",
      "Epoch 65/100\n",
      "31500/31500 [==============================] - 13s 399us/step - loss: 0.1222 - acc: 0.9616 - val_loss: 0.0548 - val_acc: 0.9833\n",
      "Epoch 66/100\n",
      "31500/31500 [==============================] - 12s 389us/step - loss: 0.1145 - acc: 0.9642 - val_loss: 0.0526 - val_acc: 0.9853\n",
      "Epoch 67/100\n",
      "31500/31500 [==============================] - 13s 402us/step - loss: 0.1221 - acc: 0.9615 - val_loss: 0.0522 - val_acc: 0.9850\n",
      "Epoch 68/100\n",
      "31500/31500 [==============================] - 12s 394us/step - loss: 0.1180 - acc: 0.9622 - val_loss: 0.0528 - val_acc: 0.9850\n",
      "Epoch 69/100\n",
      "31500/31500 [==============================] - 12s 390us/step - loss: 0.1169 - acc: 0.9622 - val_loss: 0.0535 - val_acc: 0.9856\n",
      "Epoch 70/100\n",
      "31500/31500 [==============================] - 12s 388us/step - loss: 0.1153 - acc: 0.9630 - val_loss: 0.0534 - val_acc: 0.9854\n",
      "Epoch 71/100\n",
      "31500/31500 [==============================] - 12s 386us/step - loss: 0.1158 - acc: 0.9643 - val_loss: 0.0517 - val_acc: 0.9855\n",
      "Epoch 72/100\n",
      "31500/31500 [==============================] - 12s 390us/step - loss: 0.1169 - acc: 0.9627 - val_loss: 0.0511 - val_acc: 0.9853\n",
      "Epoch 73/100\n",
      "31500/31500 [==============================] - 12s 390us/step - loss: 0.1154 - acc: 0.9637 - val_loss: 0.0576 - val_acc: 0.9834\n",
      "Epoch 74/100\n",
      "31500/31500 [==============================] - 12s 391us/step - loss: 0.1156 - acc: 0.9630 - val_loss: 0.0528 - val_acc: 0.9852\n",
      "Epoch 75/100\n",
      "31500/31500 [==============================] - 14s 444us/step - loss: 0.1155 - acc: 0.9625 - val_loss: 0.0525 - val_acc: 0.9852\n",
      "Epoch 76/100\n",
      "31500/31500 [==============================] - 14s 437us/step - loss: 0.1192 - acc: 0.9631 - val_loss: 0.0511 - val_acc: 0.9850\n",
      "Epoch 77/100\n",
      "31500/31500 [==============================] - 15s 464us/step - loss: 0.1102 - acc: 0.9648 - val_loss: 0.0522 - val_acc: 0.9850\n",
      "Epoch 78/100\n",
      "31500/31500 [==============================] - 13s 408us/step - loss: 0.1186 - acc: 0.9626 - val_loss: 0.0515 - val_acc: 0.9855\n",
      "Epoch 79/100\n",
      "31500/31500 [==============================] - 12s 391us/step - loss: 0.1140 - acc: 0.9649 - val_loss: 0.0527 - val_acc: 0.9845\n",
      "Epoch 80/100\n",
      "31500/31500 [==============================] - 12s 391us/step - loss: 0.1149 - acc: 0.9630 - val_loss: 0.0557 - val_acc: 0.9848\n",
      "Epoch 81/100\n",
      "31500/31500 [==============================] - 12s 387us/step - loss: 0.1148 - acc: 0.9642 - val_loss: 0.0519 - val_acc: 0.9857\n",
      "Epoch 82/100\n",
      "31500/31500 [==============================] - 12s 389us/step - loss: 0.1179 - acc: 0.9620 - val_loss: 0.0526 - val_acc: 0.9850\n",
      "Epoch 83/100\n",
      "31500/31500 [==============================] - 12s 393us/step - loss: 0.1120 - acc: 0.9654 - val_loss: 0.0552 - val_acc: 0.9839\n",
      "Epoch 84/100\n",
      "31500/31500 [==============================] - 12s 389us/step - loss: 0.1167 - acc: 0.9631 - val_loss: 0.0523 - val_acc: 0.9846\n",
      "Epoch 85/100\n",
      "31500/31500 [==============================] - 12s 384us/step - loss: 0.1147 - acc: 0.9637 - val_loss: 0.0505 - val_acc: 0.9854\n",
      "Epoch 86/100\n",
      "31500/31500 [==============================] - 12s 395us/step - loss: 0.1151 - acc: 0.9623 - val_loss: 0.0516 - val_acc: 0.9854\n",
      "Epoch 87/100\n",
      "31500/31500 [==============================] - 13s 428us/step - loss: 0.1112 - acc: 0.9646 - val_loss: 0.0497 - val_acc: 0.9859\n",
      "Epoch 88/100\n",
      "31500/31500 [==============================] - 13s 413us/step - loss: 0.1122 - acc: 0.9632 - val_loss: 0.0505 - val_acc: 0.9858\n",
      "Epoch 89/100\n",
      "31500/31500 [==============================] - 12s 388us/step - loss: 0.1135 - acc: 0.9643 - val_loss: 0.0527 - val_acc: 0.9850\n",
      "Epoch 90/100\n",
      "31500/31500 [==============================] - 12s 385us/step - loss: 0.1162 - acc: 0.9633 - val_loss: 0.0537 - val_acc: 0.9847\n",
      "Epoch 91/100\n",
      "31500/31500 [==============================] - 12s 391us/step - loss: 0.1145 - acc: 0.9643 - val_loss: 0.0518 - val_acc: 0.9853\n",
      "Epoch 92/100\n",
      "31500/31500 [==============================] - 13s 405us/step - loss: 0.1143 - acc: 0.9631 - val_loss: 0.0535 - val_acc: 0.9844\n",
      "Epoch 93/100\n",
      "31500/31500 [==============================] - 14s 446us/step - loss: 0.1124 - acc: 0.9633 - val_loss: 0.0522 - val_acc: 0.9851\n",
      "Epoch 94/100\n",
      "31500/31500 [==============================] - 14s 448us/step - loss: 0.1113 - acc: 0.9649 - val_loss: 0.0506 - val_acc: 0.9852\n",
      "Epoch 95/100\n",
      "31500/31500 [==============================] - 13s 415us/step - loss: 0.1178 - acc: 0.9630 - val_loss: 0.0527 - val_acc: 0.9850\n",
      "Epoch 96/100\n",
      "31500/31500 [==============================] - 13s 422us/step - loss: 0.1145 - acc: 0.9634 - val_loss: 0.0521 - val_acc: 0.9843\n",
      "Epoch 97/100\n",
      "31500/31500 [==============================] - 13s 409us/step - loss: 0.1135 - acc: 0.9631 - val_loss: 0.0511 - val_acc: 0.9857\n",
      "Epoch 98/100\n",
      "31500/31500 [==============================] - 13s 408us/step - loss: 0.1089 - acc: 0.9644 - val_loss: 0.0521 - val_acc: 0.9856\n",
      "Epoch 99/100\n",
      "31500/31500 [==============================] - 13s 408us/step - loss: 0.1121 - acc: 0.9644 - val_loss: 0.0511 - val_acc: 0.9857\n",
      "Epoch 100/100\n",
      "31500/31500 [==============================] - 13s 411us/step - loss: 0.1122 - acc: 0.9637 - val_loss: 0.0502 - val_acc: 0.9860\n"
     ]
    }
   ],
   "source": [
    "#Gotta go somewhere for a couple hours, let's give this baby a run\n",
    "#Couple hours, so I'm fine giving it 100 epochs\n",
    "history = model.fit(X_train_keras, \n",
    "          y_train, \n",
    "          batch_size=32, \n",
    "          epochs=100, \n",
    "          verbose=1, \n",
    "          validation_data = (X_test_keras, y_test))"
   ]
  },
  {
   "cell_type": "code",
   "execution_count": 31,
   "metadata": {},
   "outputs": [
    {
     "data": {
      "image/png": "[encoded data removed]",
      "text/plain": [
       "<Figure size 432x288 with 1 Axes>"
      ]
     },
     "metadata": {},
     "output_type": "display_data"
    }
   ],
   "source": [
    "#Plot the losses\n",
    "plt.plot(history.history['loss'], label='train loss')\n",
    "plt.plot(history.history['val_loss'], label='test loss')\n",
    "plt.title('Loss Function, Keras Convolutional Network')\n",
    "plt.ylabel('Categorical Cross Entropy')\n",
    "plt.xlabel('Epoch')\n",
    "plt.legend();"
   ]
  },
  {
   "cell_type": "code",
   "execution_count": 58,
   "metadata": {},
   "outputs": [],
   "source": [
    "#Reshape test set\n",
    "kag_test = kag_test.values.reshape(kag_test.shape[0], 28, 28, 1)\n",
    "\n",
    "#Predict our test values\n",
    "preds_keras = model.predict_classes(kag_test)"
   ]
  },
  {
   "cell_type": "code",
   "execution_count": 113,
   "metadata": {},
   "outputs": [],
   "source": [
    "#Put predictions into dataframe\n",
    "keras_results = pd.DataFrame()\n",
    "keras_results['Label'] = preds_keras\n",
    "keras_results['ImageId'] = range(1,kag_test.shape[0] + 1)"
   ]
  },
  {
   "cell_type": "code",
   "execution_count": 114,
   "metadata": {},
   "outputs": [],
   "source": [
    "#Export to csv\n",
    "keras_results.to_csv('./keras_submission.csv')"
   ]
  },
  {
   "cell_type": "markdown",
   "metadata": {},
   "source": [
    "## Tensorflow Network"
   ]
  },
  {
   "cell_type": "code",
   "execution_count": 8,
   "metadata": {},
   "outputs": [],
   "source": [
    "#Build network\n",
    "tf.reset_default_graph()\n",
    "\n",
    "X = tf.placeholder(dtype=tf.float32, \n",
    "                   shape=(None,X_train.shape[1]),\n",
    "                   name='X')\n",
    "y = tf.placeholder(dtype=tf.float32,\n",
    "                   shape=(None),\n",
    "                   name='y')\n",
    "\n",
    "hidden1 = tf.layers.dense(X, units=X_train.shape[1], \n",
    "                          name='hidden1',\n",
    "                          activation=tf.nn.relu)\n",
    "y_hat = tf.layers.dense(hidden1, \n",
    "                        units=y_train.shape[1],\n",
    "                        activation=None)\n",
    "\n",
    "loss = tf.losses.softmax_cross_entropy(y, y_hat)\n",
    "\n",
    "optimizer = tf.train.AdamOptimizer(0.01)\n",
    "\n",
    "training_op = optimizer.minimize(loss)\n",
    "\n",
    "saver = tf.train.Saver()"
   ]
  },
  {
   "cell_type": "code",
   "execution_count": 9,
   "metadata": {},
   "outputs": [
    {
     "name": "stdout",
     "output_type": "stream",
     "text": [
      "epoch 1 1.208466 1.2014301\n",
      "epoch 11 0.40215343 0.39240968\n",
      "epoch 21 0.2405934 0.2458021\n",
      "epoch 31 0.15115456 0.1682135\n",
      "epoch 41 0.10405356 0.12929448\n",
      "epoch 51 0.07133371 0.108259544\n",
      "epoch 61 0.04901797 0.098536074\n",
      "epoch 71 0.033609223 0.093673736\n",
      "epoch 81 0.02307126 0.091367304\n",
      "epoch 91 0.015960004 0.09050227\n",
      "epoch 101 0.011207601 0.09060631\n"
     ]
    }
   ],
   "source": [
    "#Run it!\n",
    "init = tf.global_variables_initializer()\n",
    "\n",
    "test_err = []\n",
    "train_err = []\n",
    "\n",
    "with tf.Session() as sess:\n",
    "    init.run()\n",
    "    \n",
    "    for epoch in range(101):\n",
    "        sess.run(training_op,\n",
    "                 feed_dict={X:X_train, y:y_train})\n",
    "        \n",
    "        train_loss = sess.run(loss, feed_dict={X:X_train, y:y_train})\n",
    "        test_loss = sess.run(loss, feed_dict={X:X_test, y:y_test})\n",
    "        test_err.append(test_loss)\n",
    "        train_err.append(train_loss)\n",
    "        if epoch % 10 == 0:\n",
    "            print('epoch', epoch+1, train_loss, test_loss)\n",
    "            \n",
    "    saver.save(sess, './tf_network.ckpt')\n",
    "        \n",
    "    pred = sess.run(y_hat, feed_dict={X:X_test})"
   ]
  },
  {
   "cell_type": "code",
   "execution_count": null,
   "metadata": {},
   "outputs": [],
   "source": [
    "plt.plot(test_err, label='test loss')\n",
    "plt.plot(train_err, label='train loss')\n",
    "plt.title('Loss Function, Tensorflow Network')\n",
    "plt.ylabel('Categorical Cross Entropy')\n",
    "plt.xlabel('Epoch')\n",
    "plt.legend();"
   ]
  },
  {
   "cell_type": "code",
   "execution_count": 119,
   "metadata": {},
   "outputs": [],
   "source": [
    "import numpy as np"
   ]
  },
  {
   "cell_type": "code",
   "execution_count": 121,
   "metadata": {},
   "outputs": [
    {
     "data": {
      "text/plain": [
       "10500"
      ]
     },
     "execution_count": 121,
     "metadata": {},
     "output_type": "execute_result"
    }
   ],
   "source": [
    "len(pred)"
   ]
  },
  {
   "cell_type": "code",
   "execution_count": 122,
   "metadata": {},
   "outputs": [],
   "source": [
    "#Results into dataframe\n",
    "tf_results = pd.DataFrame()\n",
    "tf_results['Label'] = map(np.argmax, pred)\n",
    "tf_results['ImageId'] = range(1,10501)"
   ]
  },
  {
   "cell_type": "code",
   "execution_count": 123,
   "metadata": {},
   "outputs": [],
   "source": [
    "#Export to csv\n",
    "tf_results.to_csv('./tf_submission.csv')"
   ]
  }
 ],
 "metadata": {
  "kernelspec": {
   "display_name": "Python 3",
   "language": "python",
   "name": "python3"
  },
  "language_info": {
   "codemirror_mode": {
    "name": "ipython",
    "version": 3
   },
   "file_extension": ".py",
   "mimetype": "text/x-python",
   "name": "python",
   "nbconvert_exporter": "python",
   "pygments_lexer": "ipython3",
   "version": "3.6.5"
  }
 },
 "nbformat": 4,
 "nbformat_minor": 2
}
